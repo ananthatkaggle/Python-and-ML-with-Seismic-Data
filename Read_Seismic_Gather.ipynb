{
 "cells": [
  {
   "cell_type": "markdown",
   "metadata": {},
   "source": [
    "# Seismic Gather SEGY Readin \n",
    "For this notebook, you will need the segpy package to read SEGY files. Use pip to install this package."
   ]
  },
  {
   "cell_type": "code",
   "execution_count": 1,
   "metadata": {},
   "outputs": [],
   "source": [
    "import numpy as np\n",
    "from segpy.reader import create_reader\n",
    "import matplotlib.pyplot as plt\n",
    "import matplotlib.image as mpimg\n",
    "from matplotlib import colors, cm, pyplot as plt\n",
    "\n",
    "% matplotlib inline\n",
    "plt.rcParams['figure.figsize'] = (10, 10)\n"
   ]
  },
  {
   "cell_type": "code",
   "execution_count": null,
   "metadata": {},
   "outputs": [],
   "source": [
    "# path to the SEG-Y file \n",
    "filepath = 'Z:/ .... '\n",
    "\n",
    "shot = []\n",
    "with open(filepath, 'rb') as in_file:   #r is for reading and writing and b is for binary 'mode'\n",
    "    segy_reader = create_reader(in_file)\n",
    " \n",
    "    for i in segy_reader.trace_indexes():\n",
    "        trace = segy_reader.trace_samples(i)\n",
    "        shot.append(list(trace))\n",
    "       \n",
    "  \n",
    "# convert list of lists to Numpy array\n",
    "shot = np.asarray(shot, dtype=float)\n",
    "\n"
   ]
  },
  {
   "cell_type": "code",
   "execution_count": null,
   "metadata": {},
   "outputs": [],
   "source": [
    "with open(filepath, 'rb') as new_file:\n",
    "    head = create_reader(in_file)\n",
    "    firstNlines = head.readlines()[0:5]\n",
    "    print(firstNlines)"
   ]
  },
  {
   "cell_type": "markdown",
   "metadata": {},
   "source": [
    "### To display shape of the 2D array"
   ]
  },
  {
   "cell_type": "code",
   "execution_count": null,
   "metadata": {},
   "outputs": [],
   "source": [
    "print(shot.shape)\n",
    "print(shot[0].shape)"
   ]
  },
  {
   "cell_type": "markdown",
   "metadata": {},
   "source": [
    "### Ways to visualize seismic traces"
   ]
  },
  {
   "cell_type": "code",
   "execution_count": null,
   "metadata": {
    "scrolled": true
   },
   "outputs": [],
   "source": [
    "# To plot a single trace:\n",
    "plt.plot(shot[0]);\n",
    "\n",
    "# To plot a single shot gather in greyscale:\n",
    "plt.imshow(shot.T, cmap='Greys', origin='upper');\n",
    "\n",
    "#To plot a color display\n",
    "plt.imshow(shot.T, cmap='RdGy', origin='upper',norm = None)\n",
    "cbar = plt.colorbar()\n",
    "#ax.set_xlabel('X LABEL')\n",
    "#ax.xaxis.set_label_position('top')\n",
    "\n",
    "#Normalize the display color\n",
    "norm = colors.LogNorm(shot.mean() +0.0001*shot.std(), shot.max(),clip='False')\n",
    "plt.imshow(shot.T, cmap='Greys', origin='upper', norm=norm);\n",
    "\n"
   ]
  }
 ],
 "metadata": {
  "anaconda-cloud": {},
  "kernelspec": {
   "display_name": "Python 3",
   "language": "python",
   "name": "python3"
  },
  "language_info": {
   "codemirror_mode": {
    "name": "ipython",
    "version": 3
   },
   "file_extension": ".py",
   "mimetype": "text/x-python",
   "name": "python",
   "nbconvert_exporter": "python",
   "pygments_lexer": "ipython3",
   "version": "3.7.7"
  }
 },
 "nbformat": 4,
 "nbformat_minor": 4
}
